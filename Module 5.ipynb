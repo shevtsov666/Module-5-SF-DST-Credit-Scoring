{
 "cells": [
  {
   "cell_type": "code",
   "execution_count": 1,
   "id": "af3c7640",
   "metadata": {
    "_cell_guid": "b1076dfc-b9ad-4769-8c92-a6c4dae69d19",
    "_uuid": "8f2839f25d086af736a60e9eeb907d3b93b6e0e5",
    "execution": {
     "iopub.execute_input": "2021-12-20T17:19:59.409691Z",
     "iopub.status.busy": "2021-12-20T17:19:59.407133Z",
     "iopub.status.idle": "2021-12-20T17:19:59.421809Z",
     "shell.execute_reply": "2021-12-20T17:19:59.420621Z",
     "shell.execute_reply.started": "2021-12-20T17:19:02.963200Z"
    },
    "papermill": {
     "duration": 0.049081,
     "end_time": "2021-12-20T17:19:59.422131",
     "exception": false,
     "start_time": "2021-12-20T17:19:59.373050",
     "status": "completed"
    },
    "tags": []
   },
   "outputs": [
    {
     "name": "stdout",
     "output_type": "stream",
     "text": [
      "/kaggle/input/sf-scoring/sample_submission.csv\n",
      "/kaggle/input/sf-scoring/train.csv\n",
      "/kaggle/input/sf-scoring/test.csv\n"
     ]
    }
   ],
   "source": [
    "# This Python 3 environment comes with many helpful analytics libraries installed\n",
    "# It is defined by the kaggle/python Docker image: https://github.com/kaggle/docker-python\n",
    "# For example, here's several helpful packages to load\n",
    "\n",
    "import numpy as np # linear algebra\n",
    "import pandas as pd # data processing, CSV file I/O (e.g. pd.read_csv)\n",
    "\n",
    "# Input data files are available in the read-only \"../input/\" directory\n",
    "# For example, running this (by clicking run or pressing Shift+Enter) will list all files under the input directory\n",
    "\n",
    "import os\n",
    "for dirname, _, filenames in os.walk('/kaggle/input'):\n",
    "    for filename in filenames:\n",
    "        print(os.path.join(dirname, filename))\n",
    "\n",
    "# You can write up to 20GB to the current directory (/kaggle/working/) that gets preserved as output when you create a version using \"Save & Run All\" \n",
    "# You can also write temporary files to /kaggle/temp/, but they won't be saved outside of the current session"
   ]
  },
  {
   "cell_type": "code",
   "execution_count": 2,
   "id": "51ccae03",
   "metadata": {
    "execution": {
     "iopub.execute_input": "2021-12-20T17:19:59.475311Z",
     "iopub.status.busy": "2021-12-20T17:19:59.474669Z",
     "iopub.status.idle": "2021-12-20T17:19:59.892625Z",
     "shell.execute_reply": "2021-12-20T17:19:59.892005Z",
     "shell.execute_reply.started": "2021-12-20T17:19:02.974717Z"
    },
    "papermill": {
     "duration": 0.445101,
     "end_time": "2021-12-20T17:19:59.892809",
     "exception": false,
     "start_time": "2021-12-20T17:19:59.447708",
     "status": "completed"
    },
    "tags": []
   },
   "outputs": [],
   "source": [
    "DATA_DIR = '/kaggle/input/sf-scoring/'\n",
    "#DATA_DIR = '.' #Для локальной работы\n",
    "df_train = pd.read_csv(DATA_DIR +'/train.csv')\n",
    "df_test = pd.read_csv(DATA_DIR +'/test.csv')\n",
    "sample_submission = pd.read_csv(DATA_DIR+'/sample_submission.csv')"
   ]
  },
  {
   "cell_type": "code",
   "execution_count": 3,
   "id": "d403e48a",
   "metadata": {
    "execution": {
     "iopub.execute_input": "2021-12-20T17:19:59.946503Z",
     "iopub.status.busy": "2021-12-20T17:19:59.945567Z",
     "iopub.status.idle": "2021-12-20T17:19:59.954382Z",
     "shell.execute_reply": "2021-12-20T17:19:59.954911Z",
     "shell.execute_reply.started": "2021-12-20T17:19:03.205787Z"
    },
    "papermill": {
     "duration": 0.037409,
     "end_time": "2021-12-20T17:19:59.955111",
     "exception": false,
     "start_time": "2021-12-20T17:19:59.917702",
     "status": "completed"
    },
    "tags": []
   },
   "outputs": [
    {
     "data": {
      "text/plain": [
       "(36349, 2)"
      ]
     },
     "execution_count": 3,
     "metadata": {},
     "output_type": "execute_result"
    }
   ],
   "source": [
    "sample_submission.shape"
   ]
  },
  {
   "cell_type": "code",
   "execution_count": 4,
   "id": "7302e15b",
   "metadata": {
    "execution": {
     "iopub.execute_input": "2021-12-20T17:20:00.009714Z",
     "iopub.status.busy": "2021-12-20T17:20:00.008978Z",
     "iopub.status.idle": "2021-12-20T17:20:00.013298Z",
     "shell.execute_reply": "2021-12-20T17:20:00.013775Z",
     "shell.execute_reply.started": "2021-12-20T17:19:03.213866Z"
    },
    "papermill": {
     "duration": 0.034183,
     "end_time": "2021-12-20T17:20:00.013976",
     "exception": false,
     "start_time": "2021-12-20T17:19:59.979793",
     "status": "completed"
    },
    "tags": []
   },
   "outputs": [
    {
     "data": {
      "text/plain": [
       "(36349, 18)"
      ]
     },
     "execution_count": 4,
     "metadata": {},
     "output_type": "execute_result"
    }
   ],
   "source": [
    "df_test.shape"
   ]
  },
  {
   "cell_type": "code",
   "execution_count": 5,
   "id": "d7ff5c92",
   "metadata": {
    "execution": {
     "iopub.execute_input": "2021-12-20T17:20:00.069978Z",
     "iopub.status.busy": "2021-12-20T17:20:00.069222Z",
     "iopub.status.idle": "2021-12-20T17:20:00.147357Z",
     "shell.execute_reply": "2021-12-20T17:20:00.146398Z",
     "shell.execute_reply.started": "2021-12-20T17:19:03.227445Z"
    },
    "papermill": {
     "duration": 0.108095,
     "end_time": "2021-12-20T17:20:00.147588",
     "exception": false,
     "start_time": "2021-12-20T17:20:00.039493",
     "status": "completed"
    },
    "tags": []
   },
   "outputs": [
    {
     "name": "stdout",
     "output_type": "stream",
     "text": [
      "<class 'pandas.core.frame.DataFrame'>\n",
      "RangeIndex: 73799 entries, 0 to 73798\n",
      "Data columns (total 19 columns):\n",
      " #   Column            Non-Null Count  Dtype  \n",
      "---  ------            --------------  -----  \n",
      " 0   client_id         73799 non-null  int64  \n",
      " 1   app_date          73799 non-null  object \n",
      " 2   education         73492 non-null  object \n",
      " 3   sex               73799 non-null  object \n",
      " 4   age               73799 non-null  int64  \n",
      " 5   car               73799 non-null  object \n",
      " 6   car_type          73799 non-null  object \n",
      " 7   decline_app_cnt   73799 non-null  int64  \n",
      " 8   good_work         73799 non-null  int64  \n",
      " 9   score_bki         73799 non-null  float64\n",
      " 10  bki_request_cnt   73799 non-null  int64  \n",
      " 11  region_rating     73799 non-null  int64  \n",
      " 12  home_address      73799 non-null  int64  \n",
      " 13  work_address      73799 non-null  int64  \n",
      " 14  income            73799 non-null  int64  \n",
      " 15  sna               73799 non-null  int64  \n",
      " 16  first_time        73799 non-null  int64  \n",
      " 17  foreign_passport  73799 non-null  object \n",
      " 18  default           73799 non-null  int64  \n",
      "dtypes: float64(1), int64(12), object(6)\n",
      "memory usage: 10.7+ MB\n"
     ]
    }
   ],
   "source": [
    "df_train.info()"
   ]
  },
  {
   "cell_type": "code",
   "execution_count": 6,
   "id": "9372cd22",
   "metadata": {
    "execution": {
     "iopub.execute_input": "2021-12-20T17:20:00.206743Z",
     "iopub.status.busy": "2021-12-20T17:20:00.205987Z",
     "iopub.status.idle": "2021-12-20T17:20:00.227458Z",
     "shell.execute_reply": "2021-12-20T17:20:00.226905Z",
     "shell.execute_reply.started": "2021-12-20T17:19:03.299212Z"
    },
    "papermill": {
     "duration": 0.053083,
     "end_time": "2021-12-20T17:20:00.227634",
     "exception": false,
     "start_time": "2021-12-20T17:20:00.174551",
     "status": "completed"
    },
    "tags": []
   },
   "outputs": [
    {
     "data": {
      "text/html": [
       "<div>\n",
       "<style scoped>\n",
       "    .dataframe tbody tr th:only-of-type {\n",
       "        vertical-align: middle;\n",
       "    }\n",
       "\n",
       "    .dataframe tbody tr th {\n",
       "        vertical-align: top;\n",
       "    }\n",
       "\n",
       "    .dataframe thead th {\n",
       "        text-align: right;\n",
       "    }\n",
       "</style>\n",
       "<table border=\"1\" class=\"dataframe\">\n",
       "  <thead>\n",
       "    <tr style=\"text-align: right;\">\n",
       "      <th></th>\n",
       "      <th>client_id</th>\n",
       "      <th>app_date</th>\n",
       "      <th>education</th>\n",
       "      <th>sex</th>\n",
       "      <th>age</th>\n",
       "      <th>car</th>\n",
       "      <th>car_type</th>\n",
       "      <th>decline_app_cnt</th>\n",
       "      <th>good_work</th>\n",
       "      <th>score_bki</th>\n",
       "      <th>bki_request_cnt</th>\n",
       "      <th>region_rating</th>\n",
       "      <th>home_address</th>\n",
       "      <th>work_address</th>\n",
       "      <th>income</th>\n",
       "      <th>sna</th>\n",
       "      <th>first_time</th>\n",
       "      <th>foreign_passport</th>\n",
       "      <th>default</th>\n",
       "    </tr>\n",
       "  </thead>\n",
       "  <tbody>\n",
       "    <tr>\n",
       "      <th>0</th>\n",
       "      <td>25905</td>\n",
       "      <td>01FEB2014</td>\n",
       "      <td>SCH</td>\n",
       "      <td>M</td>\n",
       "      <td>62</td>\n",
       "      <td>Y</td>\n",
       "      <td>Y</td>\n",
       "      <td>0</td>\n",
       "      <td>0</td>\n",
       "      <td>-2.008753</td>\n",
       "      <td>1</td>\n",
       "      <td>50</td>\n",
       "      <td>1</td>\n",
       "      <td>2</td>\n",
       "      <td>18000</td>\n",
       "      <td>4</td>\n",
       "      <td>1</td>\n",
       "      <td>N</td>\n",
       "      <td>0</td>\n",
       "    </tr>\n",
       "    <tr>\n",
       "      <th>1</th>\n",
       "      <td>63161</td>\n",
       "      <td>12MAR2014</td>\n",
       "      <td>SCH</td>\n",
       "      <td>F</td>\n",
       "      <td>59</td>\n",
       "      <td>N</td>\n",
       "      <td>N</td>\n",
       "      <td>0</td>\n",
       "      <td>0</td>\n",
       "      <td>-1.532276</td>\n",
       "      <td>3</td>\n",
       "      <td>50</td>\n",
       "      <td>2</td>\n",
       "      <td>3</td>\n",
       "      <td>19000</td>\n",
       "      <td>4</td>\n",
       "      <td>1</td>\n",
       "      <td>N</td>\n",
       "      <td>0</td>\n",
       "    </tr>\n",
       "    <tr>\n",
       "      <th>2</th>\n",
       "      <td>25887</td>\n",
       "      <td>01FEB2014</td>\n",
       "      <td>SCH</td>\n",
       "      <td>M</td>\n",
       "      <td>25</td>\n",
       "      <td>Y</td>\n",
       "      <td>N</td>\n",
       "      <td>2</td>\n",
       "      <td>0</td>\n",
       "      <td>-1.408142</td>\n",
       "      <td>1</td>\n",
       "      <td>80</td>\n",
       "      <td>1</td>\n",
       "      <td>2</td>\n",
       "      <td>30000</td>\n",
       "      <td>1</td>\n",
       "      <td>4</td>\n",
       "      <td>Y</td>\n",
       "      <td>0</td>\n",
       "    </tr>\n",
       "    <tr>\n",
       "      <th>3</th>\n",
       "      <td>16222</td>\n",
       "      <td>23JAN2014</td>\n",
       "      <td>SCH</td>\n",
       "      <td>F</td>\n",
       "      <td>53</td>\n",
       "      <td>N</td>\n",
       "      <td>N</td>\n",
       "      <td>0</td>\n",
       "      <td>0</td>\n",
       "      <td>-2.057471</td>\n",
       "      <td>2</td>\n",
       "      <td>50</td>\n",
       "      <td>2</td>\n",
       "      <td>3</td>\n",
       "      <td>10000</td>\n",
       "      <td>1</td>\n",
       "      <td>3</td>\n",
       "      <td>N</td>\n",
       "      <td>0</td>\n",
       "    </tr>\n",
       "    <tr>\n",
       "      <th>4</th>\n",
       "      <td>101655</td>\n",
       "      <td>18APR2014</td>\n",
       "      <td>GRD</td>\n",
       "      <td>M</td>\n",
       "      <td>48</td>\n",
       "      <td>N</td>\n",
       "      <td>N</td>\n",
       "      <td>0</td>\n",
       "      <td>1</td>\n",
       "      <td>-1.244723</td>\n",
       "      <td>1</td>\n",
       "      <td>60</td>\n",
       "      <td>2</td>\n",
       "      <td>3</td>\n",
       "      <td>30000</td>\n",
       "      <td>1</td>\n",
       "      <td>4</td>\n",
       "      <td>Y</td>\n",
       "      <td>0</td>\n",
       "    </tr>\n",
       "  </tbody>\n",
       "</table>\n",
       "</div>"
      ],
      "text/plain": [
       "   client_id   app_date education sex  age car car_type  decline_app_cnt  \\\n",
       "0      25905  01FEB2014       SCH   M   62   Y        Y                0   \n",
       "1      63161  12MAR2014       SCH   F   59   N        N                0   \n",
       "2      25887  01FEB2014       SCH   M   25   Y        N                2   \n",
       "3      16222  23JAN2014       SCH   F   53   N        N                0   \n",
       "4     101655  18APR2014       GRD   M   48   N        N                0   \n",
       "\n",
       "   good_work  score_bki  bki_request_cnt  region_rating  home_address  \\\n",
       "0          0  -2.008753                1             50             1   \n",
       "1          0  -1.532276                3             50             2   \n",
       "2          0  -1.408142                1             80             1   \n",
       "3          0  -2.057471                2             50             2   \n",
       "4          1  -1.244723                1             60             2   \n",
       "\n",
       "   work_address  income  sna  first_time foreign_passport  default  \n",
       "0             2   18000    4           1                N        0  \n",
       "1             3   19000    4           1                N        0  \n",
       "2             2   30000    1           4                Y        0  \n",
       "3             3   10000    1           3                N        0  \n",
       "4             3   30000    1           4                Y        0  "
      ]
     },
     "execution_count": 6,
     "metadata": {},
     "output_type": "execute_result"
    }
   ],
   "source": [
    "df_train.head(5)"
   ]
  },
  {
   "cell_type": "code",
   "execution_count": 7,
   "id": "80fb7f45",
   "metadata": {
    "execution": {
     "iopub.execute_input": "2021-12-20T17:20:00.285660Z",
     "iopub.status.busy": "2021-12-20T17:20:00.284849Z",
     "iopub.status.idle": "2021-12-20T17:20:00.302581Z",
     "shell.execute_reply": "2021-12-20T17:20:00.303084Z",
     "shell.execute_reply.started": "2021-12-20T17:19:03.317549Z"
    },
    "papermill": {
     "duration": 0.049008,
     "end_time": "2021-12-20T17:20:00.303283",
     "exception": false,
     "start_time": "2021-12-20T17:20:00.254275",
     "status": "completed"
    },
    "tags": []
   },
   "outputs": [
    {
     "data": {
      "text/plain": [
       "<bound method DataFrame.info of        client_id   app_date education sex  age car car_type  decline_app_cnt  \\\n",
       "0          74835  22MAR2014       GRD   M   29   Y        Y                0   \n",
       "1          17527  24JAN2014       SCH   F   39   N        N                5   \n",
       "2          75683  23MAR2014       UGR   M   50   Y        Y                0   \n",
       "3          26883  03FEB2014       SCH   M   56   N        N                0   \n",
       "4          28862  04FEB2014       GRD   F   38   N        N                0   \n",
       "...          ...        ...       ...  ..  ...  ..      ...              ...   \n",
       "36344      83775  31MAR2014       SCH   F   37   N        N                1   \n",
       "36345     106254  25APR2014       GRD   F   64   Y        Y                0   \n",
       "36346      81852  30MAR2014       GRD   M   31   N        N                2   \n",
       "36347       1971  07JAN2014       UGR   F   27   N        N                1   \n",
       "36348      69044  17MAR2014       SCH   M   38   N        N                0   \n",
       "\n",
       "       good_work  score_bki  bki_request_cnt  region_rating  home_address  \\\n",
       "0              0  -2.271884                3             50             1   \n",
       "1              0  -1.504999                2             50             1   \n",
       "2              0  -1.691339                1             50             1   \n",
       "3              0  -2.374182                1             40             1   \n",
       "4              0  -2.487502                0             80             2   \n",
       "...          ...        ...              ...            ...           ...   \n",
       "36344          0  -1.744976                3             50             2   \n",
       "36345          0  -2.293781                3             60             1   \n",
       "36346          0  -0.940752                1             50             1   \n",
       "36347          0  -1.242392                2             80             2   \n",
       "36348          0  -1.507549                2             50             1   \n",
       "\n",
       "       work_address  income  sna  first_time foreign_passport  \n",
       "0                 2   50000    1           4                N  \n",
       "1                 2    5000    4           3                N  \n",
       "2                 2   30000    1           3                Y  \n",
       "3                 2   17000    1           3                N  \n",
       "4                 3  120000    1           3                N  \n",
       "...             ...     ...  ...         ...              ...  \n",
       "36344             3   15000    4           1                N  \n",
       "36345             2  200000    1           4                N  \n",
       "36346             2   60000    4           2                N  \n",
       "36347             3   30000    1           1                N  \n",
       "36348             2   15000    4           2                N  \n",
       "\n",
       "[36349 rows x 18 columns]>"
      ]
     },
     "execution_count": 7,
     "metadata": {},
     "output_type": "execute_result"
    }
   ],
   "source": [
    "df_test.info"
   ]
  },
  {
   "cell_type": "code",
   "execution_count": 8,
   "id": "d2f76dae",
   "metadata": {
    "execution": {
     "iopub.execute_input": "2021-12-20T17:20:00.359982Z",
     "iopub.status.busy": "2021-12-20T17:20:00.359265Z",
     "iopub.status.idle": "2021-12-20T17:20:00.367479Z",
     "shell.execute_reply": "2021-12-20T17:20:00.367963Z",
     "shell.execute_reply.started": "2021-12-20T17:19:03.342513Z"
    },
    "papermill": {
     "duration": 0.038524,
     "end_time": "2021-12-20T17:20:00.368219",
     "exception": false,
     "start_time": "2021-12-20T17:20:00.329695",
     "status": "completed"
    },
    "tags": []
   },
   "outputs": [
    {
     "data": {
      "text/html": [
       "<div>\n",
       "<style scoped>\n",
       "    .dataframe tbody tr th:only-of-type {\n",
       "        vertical-align: middle;\n",
       "    }\n",
       "\n",
       "    .dataframe tbody tr th {\n",
       "        vertical-align: top;\n",
       "    }\n",
       "\n",
       "    .dataframe thead th {\n",
       "        text-align: right;\n",
       "    }\n",
       "</style>\n",
       "<table border=\"1\" class=\"dataframe\">\n",
       "  <thead>\n",
       "    <tr style=\"text-align: right;\">\n",
       "      <th></th>\n",
       "      <th>client_id</th>\n",
       "      <th>default</th>\n",
       "    </tr>\n",
       "  </thead>\n",
       "  <tbody>\n",
       "    <tr>\n",
       "      <th>0</th>\n",
       "      <td>74835</td>\n",
       "      <td>0</td>\n",
       "    </tr>\n",
       "    <tr>\n",
       "      <th>1</th>\n",
       "      <td>17527</td>\n",
       "      <td>0</td>\n",
       "    </tr>\n",
       "    <tr>\n",
       "      <th>2</th>\n",
       "      <td>75683</td>\n",
       "      <td>0</td>\n",
       "    </tr>\n",
       "    <tr>\n",
       "      <th>3</th>\n",
       "      <td>26883</td>\n",
       "      <td>0</td>\n",
       "    </tr>\n",
       "    <tr>\n",
       "      <th>4</th>\n",
       "      <td>28862</td>\n",
       "      <td>0</td>\n",
       "    </tr>\n",
       "  </tbody>\n",
       "</table>\n",
       "</div>"
      ],
      "text/plain": [
       "   client_id  default\n",
       "0      74835        0\n",
       "1      17527        0\n",
       "2      75683        0\n",
       "3      26883        0\n",
       "4      28862        0"
      ]
     },
     "execution_count": 8,
     "metadata": {},
     "output_type": "execute_result"
    }
   ],
   "source": [
    "sample_submission.head(5)"
   ]
  },
  {
   "cell_type": "code",
   "execution_count": 9,
   "id": "3f4c8ae5",
   "metadata": {
    "execution": {
     "iopub.execute_input": "2021-12-20T17:20:00.435169Z",
     "iopub.status.busy": "2021-12-20T17:20:00.434414Z",
     "iopub.status.idle": "2021-12-20T17:20:00.437423Z",
     "shell.execute_reply": "2021-12-20T17:20:00.437973Z",
     "shell.execute_reply.started": "2021-12-20T17:19:03.357903Z"
    },
    "papermill": {
     "duration": 0.042745,
     "end_time": "2021-12-20T17:20:00.438168",
     "exception": false,
     "start_time": "2021-12-20T17:20:00.395423",
     "status": "completed"
    },
    "tags": []
   },
   "outputs": [
    {
     "name": "stdout",
     "output_type": "stream",
     "text": [
      "<class 'pandas.core.frame.DataFrame'>\n",
      "RangeIndex: 36349 entries, 0 to 36348\n",
      "Data columns (total 2 columns):\n",
      " #   Column     Non-Null Count  Dtype\n",
      "---  ------     --------------  -----\n",
      " 0   client_id  36349 non-null  int64\n",
      " 1   default    36349 non-null  int64\n",
      "dtypes: int64(2)\n",
      "memory usage: 568.1 KB\n"
     ]
    }
   ],
   "source": [
    "sample_submission.info()"
   ]
  },
  {
   "cell_type": "code",
   "execution_count": 10,
   "id": "9b448b26",
   "metadata": {
    "execution": {
     "iopub.execute_input": "2021-12-20T17:20:00.499026Z",
     "iopub.status.busy": "2021-12-20T17:20:00.498331Z",
     "iopub.status.idle": "2021-12-20T17:20:00.571791Z",
     "shell.execute_reply": "2021-12-20T17:20:00.571040Z",
     "shell.execute_reply.started": "2021-12-20T17:19:03.375918Z"
    },
    "papermill": {
     "duration": 0.106314,
     "end_time": "2021-12-20T17:20:00.571969",
     "exception": false,
     "start_time": "2021-12-20T17:20:00.465655",
     "status": "completed"
    },
    "tags": []
   },
   "outputs": [],
   "source": [
    "\n",
    "df_train['sample'] = 1 \n",
    "df_test['sample'] = 0  \n",
    "df_test['default'] = 0 \n",
    "\n",
    "data = df_test.append(df_train, sort=False).reset_index(drop=True) "
   ]
  },
  {
   "cell_type": "code",
   "execution_count": 11,
   "id": "a616c20d",
   "metadata": {
    "execution": {
     "iopub.execute_input": "2021-12-20T17:20:00.632460Z",
     "iopub.status.busy": "2021-12-20T17:20:00.630489Z",
     "iopub.status.idle": "2021-12-20T17:20:00.711786Z",
     "shell.execute_reply": "2021-12-20T17:20:00.712393Z",
     "shell.execute_reply.started": "2021-12-20T17:19:03.431900Z"
    },
    "papermill": {
     "duration": 0.113448,
     "end_time": "2021-12-20T17:20:00.713602",
     "exception": false,
     "start_time": "2021-12-20T17:20:00.600154",
     "status": "completed"
    },
    "tags": []
   },
   "outputs": [
    {
     "data": {
      "text/plain": [
       "client_id           110148\n",
       "app_date               120\n",
       "education                6\n",
       "sex                      2\n",
       "age                     52\n",
       "car                      2\n",
       "car_type                 2\n",
       "decline_app_cnt         24\n",
       "good_work                2\n",
       "score_bki           102618\n",
       "bki_request_cnt         40\n",
       "region_rating            7\n",
       "home_address             3\n",
       "work_address             3\n",
       "income                1207\n",
       "sna                      4\n",
       "first_time               4\n",
       "foreign_passport         2\n",
       "sample                   2\n",
       "default                  2\n",
       "dtype: int64"
      ]
     },
     "execution_count": 11,
     "metadata": {},
     "output_type": "execute_result"
    }
   ],
   "source": [
    "data.nunique(dropna=False)"
   ]
  },
  {
   "cell_type": "code",
   "execution_count": 12,
   "id": "329f38f8",
   "metadata": {
    "execution": {
     "iopub.execute_input": "2021-12-20T17:20:00.774235Z",
     "iopub.status.busy": "2021-12-20T17:20:00.773617Z",
     "iopub.status.idle": "2021-12-20T17:20:00.778021Z",
     "shell.execute_reply": "2021-12-20T17:20:00.778573Z",
     "shell.execute_reply.started": "2021-12-20T17:19:03.513695Z"
    },
    "papermill": {
     "duration": 0.035754,
     "end_time": "2021-12-20T17:20:00.778765",
     "exception": false,
     "start_time": "2021-12-20T17:20:00.743011",
     "status": "completed"
    },
    "tags": []
   },
   "outputs": [],
   "source": [
    "num_cols = ['age', 'score_bki', 'decline_app_cnt', 'score_bki', 'bki_request_cnt', 'income']\n",
    "cat_cols = ['education', 'first_time', 'sna', 'work_address', 'home_address', 'region_rating']\n",
    "bin_cols = ['sex', 'car', 'car_type', 'good_work', 'foreign_passport']"
   ]
  },
  {
   "cell_type": "code",
   "execution_count": 13,
   "id": "69632a5f",
   "metadata": {
    "execution": {
     "iopub.execute_input": "2021-12-20T17:20:00.840133Z",
     "iopub.status.busy": "2021-12-20T17:20:00.839530Z",
     "iopub.status.idle": "2021-12-20T17:20:01.074852Z",
     "shell.execute_reply": "2021-12-20T17:20:01.073808Z",
     "shell.execute_reply.started": "2021-12-20T17:19:03.520909Z"
    },
    "papermill": {
     "duration": 0.268113,
     "end_time": "2021-12-20T17:20:01.075014",
     "exception": false,
     "start_time": "2021-12-20T17:20:00.806901",
     "status": "completed"
    },
    "tags": []
   },
   "outputs": [
    {
     "data": {
      "text/plain": [
       "<AxesSubplot:>"
      ]
     },
     "execution_count": 13,
     "metadata": {},
     "output_type": "execute_result"
    },
    {
     "data": {
      "image/png": "[encoded data removed]",
      "text/plain": [
       "<Figure size 432x288 with 1 Axes>"
      ]
     },
     "metadata": {
      "needs_background": "light"
     },
     "output_type": "display_data"
    }
   ],
   "source": [
    "data['default'].value_counts(ascending=True).plot(kind='barh')"
   ]
  },
  {
   "cell_type": "code",
   "execution_count": 14,
   "id": "f760422c",
   "metadata": {
    "execution": {
     "iopub.execute_input": "2021-12-20T17:20:01.138828Z",
     "iopub.status.busy": "2021-12-20T17:20:01.135726Z",
     "iopub.status.idle": "2021-12-20T17:20:01.151578Z",
     "shell.execute_reply": "2021-12-20T17:20:01.150989Z",
     "shell.execute_reply.started": "2021-12-20T17:19:03.732889Z"
    },
    "papermill": {
     "duration": 0.048342,
     "end_time": "2021-12-20T17:20:01.151724",
     "exception": false,
     "start_time": "2021-12-20T17:20:01.103382",
     "status": "completed"
    },
    "tags": []
   },
   "outputs": [],
   "source": [
    "data.drop(['client_id','app_date',], axis = 1, inplace=True)"
   ]
  },
  {
   "cell_type": "code",
   "execution_count": 15,
   "id": "c8432e82",
   "metadata": {
    "execution": {
     "iopub.execute_input": "2021-12-20T17:20:01.213268Z",
     "iopub.status.busy": "2021-12-20T17:20:01.212265Z",
     "iopub.status.idle": "2021-12-20T17:20:01.257396Z",
     "shell.execute_reply": "2021-12-20T17:20:01.256863Z",
     "shell.execute_reply.started": "2021-12-20T17:19:03.750436Z"
    },
    "papermill": {
     "duration": 0.076544,
     "end_time": "2021-12-20T17:20:01.257570",
     "exception": false,
     "start_time": "2021-12-20T17:20:01.181026",
     "status": "completed"
    },
    "tags": []
   },
   "outputs": [],
   "source": [
    "data = pd.get_dummies(data, columns=['education'], dummy_na=True)"
   ]
  },
  {
   "cell_type": "code",
   "execution_count": 16,
   "id": "0b13da42",
   "metadata": {
    "execution": {
     "iopub.execute_input": "2021-12-20T17:20:01.321062Z",
     "iopub.status.busy": "2021-12-20T17:20:01.320377Z",
     "iopub.status.idle": "2021-12-20T17:20:02.673714Z",
     "shell.execute_reply": "2021-12-20T17:20:02.673118Z",
     "shell.execute_reply.started": "2021-12-20T17:19:03.794853Z"
    },
    "papermill": {
     "duration": 1.388405,
     "end_time": "2021-12-20T17:20:02.673857",
     "exception": false,
     "start_time": "2021-12-20T17:20:01.285452",
     "status": "completed"
    },
    "tags": []
   },
   "outputs": [],
   "source": [
    "from sklearn import preprocessing\n",
    "le = preprocessing.LabelEncoder()\n",
    "\n",
    "for column in bin_cols:\n",
    "    data[column] = le.fit_transform(data[column])\n",
    "    \n",
    "columns = ['first_time', 'sna', 'work_address', 'home_address', 'region_rating']\n",
    "\n",
    "for column in columns:\n",
    "    data[column] = le.fit_transform(data[column])"
   ]
  },
  {
   "cell_type": "code",
   "execution_count": 17,
   "id": "83f4946c",
   "metadata": {
    "execution": {
     "iopub.execute_input": "2021-12-20T17:20:02.737403Z",
     "iopub.status.busy": "2021-12-20T17:20:02.736762Z",
     "iopub.status.idle": "2021-12-20T17:20:02.756034Z",
     "shell.execute_reply": "2021-12-20T17:20:02.756706Z",
     "shell.execute_reply.started": "2021-12-20T17:19:03.981796Z"
    },
    "papermill": {
     "duration": 0.054602,
     "end_time": "2021-12-20T17:20:02.756906",
     "exception": false,
     "start_time": "2021-12-20T17:20:02.702304",
     "status": "completed"
    },
    "tags": []
   },
   "outputs": [
    {
     "name": "stdout",
     "output_type": "stream",
     "text": [
      "<class 'pandas.core.frame.DataFrame'>\n",
      "RangeIndex: 110148 entries, 0 to 110147\n",
      "Data columns (total 23 columns):\n",
      " #   Column            Non-Null Count   Dtype  \n",
      "---  ------            --------------   -----  \n",
      " 0   sex               110148 non-null  int64  \n",
      " 1   age               110148 non-null  int64  \n",
      " 2   car               110148 non-null  int64  \n",
      " 3   car_type          110148 non-null  int64  \n",
      " 4   decline_app_cnt   110148 non-null  int64  \n",
      " 5   good_work         110148 non-null  int64  \n",
      " 6   score_bki         110148 non-null  float64\n",
      " 7   bki_request_cnt   110148 non-null  int64  \n",
      " 8   region_rating     110148 non-null  int64  \n",
      " 9   home_address      110148 non-null  int64  \n",
      " 10  work_address      110148 non-null  int64  \n",
      " 11  income            110148 non-null  int64  \n",
      " 12  sna               110148 non-null  int64  \n",
      " 13  first_time        110148 non-null  int64  \n",
      " 14  foreign_passport  110148 non-null  int64  \n",
      " 15  sample            110148 non-null  int64  \n",
      " 16  default           110148 non-null  int64  \n",
      " 17  education_ACD     110148 non-null  uint8  \n",
      " 18  education_GRD     110148 non-null  uint8  \n",
      " 19  education_PGR     110148 non-null  uint8  \n",
      " 20  education_SCH     110148 non-null  uint8  \n",
      " 21  education_UGR     110148 non-null  uint8  \n",
      " 22  education_nan     110148 non-null  uint8  \n",
      "dtypes: float64(1), int64(16), uint8(6)\n",
      "memory usage: 14.9 MB\n"
     ]
    }
   ],
   "source": [
    "data.info()"
   ]
  },
  {
   "cell_type": "code",
   "execution_count": 18,
   "id": "af48e688",
   "metadata": {
    "execution": {
     "iopub.execute_input": "2021-12-20T17:20:02.825907Z",
     "iopub.status.busy": "2021-12-20T17:20:02.825162Z",
     "iopub.status.idle": "2021-12-20T17:20:02.861137Z",
     "shell.execute_reply": "2021-12-20T17:20:02.860496Z",
     "shell.execute_reply.started": "2021-12-20T17:19:04.005165Z"
    },
    "papermill": {
     "duration": 0.07562,
     "end_time": "2021-12-20T17:20:02.861294",
     "exception": false,
     "start_time": "2021-12-20T17:20:02.785674",
     "status": "completed"
    },
    "tags": []
   },
   "outputs": [
    {
     "data": {
      "text/html": [
       "<div>\n",
       "<style scoped>\n",
       "    .dataframe tbody tr th:only-of-type {\n",
       "        vertical-align: middle;\n",
       "    }\n",
       "\n",
       "    .dataframe tbody tr th {\n",
       "        vertical-align: top;\n",
       "    }\n",
       "\n",
       "    .dataframe thead th {\n",
       "        text-align: right;\n",
       "    }\n",
       "</style>\n",
       "<table border=\"1\" class=\"dataframe\">\n",
       "  <thead>\n",
       "    <tr style=\"text-align: right;\">\n",
       "      <th></th>\n",
       "      <th>sex</th>\n",
       "      <th>age</th>\n",
       "      <th>car</th>\n",
       "      <th>car_type</th>\n",
       "      <th>decline_app_cnt</th>\n",
       "      <th>good_work</th>\n",
       "      <th>score_bki</th>\n",
       "      <th>bki_request_cnt</th>\n",
       "      <th>region_rating</th>\n",
       "      <th>home_address</th>\n",
       "      <th>...</th>\n",
       "      <th>first_time</th>\n",
       "      <th>foreign_passport</th>\n",
       "      <th>sample</th>\n",
       "      <th>default</th>\n",
       "      <th>education_ACD</th>\n",
       "      <th>education_GRD</th>\n",
       "      <th>education_PGR</th>\n",
       "      <th>education_SCH</th>\n",
       "      <th>education_UGR</th>\n",
       "      <th>education_nan</th>\n",
       "    </tr>\n",
       "  </thead>\n",
       "  <tbody>\n",
       "    <tr>\n",
       "      <th>0</th>\n",
       "      <td>1</td>\n",
       "      <td>29</td>\n",
       "      <td>1</td>\n",
       "      <td>1</td>\n",
       "      <td>0</td>\n",
       "      <td>0</td>\n",
       "      <td>-2.271884</td>\n",
       "      <td>3</td>\n",
       "      <td>3</td>\n",
       "      <td>0</td>\n",
       "      <td>...</td>\n",
       "      <td>3</td>\n",
       "      <td>0</td>\n",
       "      <td>0</td>\n",
       "      <td>0</td>\n",
       "      <td>0</td>\n",
       "      <td>1</td>\n",
       "      <td>0</td>\n",
       "      <td>0</td>\n",
       "      <td>0</td>\n",
       "      <td>0</td>\n",
       "    </tr>\n",
       "    <tr>\n",
       "      <th>1</th>\n",
       "      <td>0</td>\n",
       "      <td>39</td>\n",
       "      <td>0</td>\n",
       "      <td>0</td>\n",
       "      <td>5</td>\n",
       "      <td>0</td>\n",
       "      <td>-1.504999</td>\n",
       "      <td>2</td>\n",
       "      <td>3</td>\n",
       "      <td>0</td>\n",
       "      <td>...</td>\n",
       "      <td>2</td>\n",
       "      <td>0</td>\n",
       "      <td>0</td>\n",
       "      <td>0</td>\n",
       "      <td>0</td>\n",
       "      <td>0</td>\n",
       "      <td>0</td>\n",
       "      <td>1</td>\n",
       "      <td>0</td>\n",
       "      <td>0</td>\n",
       "    </tr>\n",
       "    <tr>\n",
       "      <th>2</th>\n",
       "      <td>1</td>\n",
       "      <td>50</td>\n",
       "      <td>1</td>\n",
       "      <td>1</td>\n",
       "      <td>0</td>\n",
       "      <td>0</td>\n",
       "      <td>-1.691339</td>\n",
       "      <td>1</td>\n",
       "      <td>3</td>\n",
       "      <td>0</td>\n",
       "      <td>...</td>\n",
       "      <td>2</td>\n",
       "      <td>1</td>\n",
       "      <td>0</td>\n",
       "      <td>0</td>\n",
       "      <td>0</td>\n",
       "      <td>0</td>\n",
       "      <td>0</td>\n",
       "      <td>0</td>\n",
       "      <td>1</td>\n",
       "      <td>0</td>\n",
       "    </tr>\n",
       "    <tr>\n",
       "      <th>3</th>\n",
       "      <td>1</td>\n",
       "      <td>56</td>\n",
       "      <td>0</td>\n",
       "      <td>0</td>\n",
       "      <td>0</td>\n",
       "      <td>0</td>\n",
       "      <td>-2.374182</td>\n",
       "      <td>1</td>\n",
       "      <td>2</td>\n",
       "      <td>0</td>\n",
       "      <td>...</td>\n",
       "      <td>2</td>\n",
       "      <td>0</td>\n",
       "      <td>0</td>\n",
       "      <td>0</td>\n",
       "      <td>0</td>\n",
       "      <td>0</td>\n",
       "      <td>0</td>\n",
       "      <td>1</td>\n",
       "      <td>0</td>\n",
       "      <td>0</td>\n",
       "    </tr>\n",
       "    <tr>\n",
       "      <th>4</th>\n",
       "      <td>0</td>\n",
       "      <td>38</td>\n",
       "      <td>0</td>\n",
       "      <td>0</td>\n",
       "      <td>0</td>\n",
       "      <td>0</td>\n",
       "      <td>-2.487502</td>\n",
       "      <td>0</td>\n",
       "      <td>6</td>\n",
       "      <td>1</td>\n",
       "      <td>...</td>\n",
       "      <td>2</td>\n",
       "      <td>0</td>\n",
       "      <td>0</td>\n",
       "      <td>0</td>\n",
       "      <td>0</td>\n",
       "      <td>1</td>\n",
       "      <td>0</td>\n",
       "      <td>0</td>\n",
       "      <td>0</td>\n",
       "      <td>0</td>\n",
       "    </tr>\n",
       "    <tr>\n",
       "      <th>...</th>\n",
       "      <td>...</td>\n",
       "      <td>...</td>\n",
       "      <td>...</td>\n",
       "      <td>...</td>\n",
       "      <td>...</td>\n",
       "      <td>...</td>\n",
       "      <td>...</td>\n",
       "      <td>...</td>\n",
       "      <td>...</td>\n",
       "      <td>...</td>\n",
       "      <td>...</td>\n",
       "      <td>...</td>\n",
       "      <td>...</td>\n",
       "      <td>...</td>\n",
       "      <td>...</td>\n",
       "      <td>...</td>\n",
       "      <td>...</td>\n",
       "      <td>...</td>\n",
       "      <td>...</td>\n",
       "      <td>...</td>\n",
       "      <td>...</td>\n",
       "    </tr>\n",
       "    <tr>\n",
       "      <th>110143</th>\n",
       "      <td>0</td>\n",
       "      <td>45</td>\n",
       "      <td>0</td>\n",
       "      <td>0</td>\n",
       "      <td>0</td>\n",
       "      <td>0</td>\n",
       "      <td>-1.792064</td>\n",
       "      <td>3</td>\n",
       "      <td>3</td>\n",
       "      <td>0</td>\n",
       "      <td>...</td>\n",
       "      <td>3</td>\n",
       "      <td>0</td>\n",
       "      <td>1</td>\n",
       "      <td>0</td>\n",
       "      <td>0</td>\n",
       "      <td>1</td>\n",
       "      <td>0</td>\n",
       "      <td>0</td>\n",
       "      <td>0</td>\n",
       "      <td>0</td>\n",
       "    </tr>\n",
       "    <tr>\n",
       "      <th>110144</th>\n",
       "      <td>1</td>\n",
       "      <td>41</td>\n",
       "      <td>1</td>\n",
       "      <td>1</td>\n",
       "      <td>0</td>\n",
       "      <td>0</td>\n",
       "      <td>-2.058029</td>\n",
       "      <td>1</td>\n",
       "      <td>3</td>\n",
       "      <td>1</td>\n",
       "      <td>...</td>\n",
       "      <td>3</td>\n",
       "      <td>0</td>\n",
       "      <td>1</td>\n",
       "      <td>0</td>\n",
       "      <td>0</td>\n",
       "      <td>0</td>\n",
       "      <td>0</td>\n",
       "      <td>1</td>\n",
       "      <td>0</td>\n",
       "      <td>0</td>\n",
       "    </tr>\n",
       "    <tr>\n",
       "      <th>110145</th>\n",
       "      <td>1</td>\n",
       "      <td>31</td>\n",
       "      <td>0</td>\n",
       "      <td>0</td>\n",
       "      <td>0</td>\n",
       "      <td>0</td>\n",
       "      <td>-1.512635</td>\n",
       "      <td>4</td>\n",
       "      <td>6</td>\n",
       "      <td>1</td>\n",
       "      <td>...</td>\n",
       "      <td>1</td>\n",
       "      <td>0</td>\n",
       "      <td>1</td>\n",
       "      <td>0</td>\n",
       "      <td>0</td>\n",
       "      <td>0</td>\n",
       "      <td>0</td>\n",
       "      <td>1</td>\n",
       "      <td>0</td>\n",
       "      <td>0</td>\n",
       "    </tr>\n",
       "    <tr>\n",
       "      <th>110146</th>\n",
       "      <td>0</td>\n",
       "      <td>29</td>\n",
       "      <td>0</td>\n",
       "      <td>0</td>\n",
       "      <td>0</td>\n",
       "      <td>1</td>\n",
       "      <td>-1.479334</td>\n",
       "      <td>3</td>\n",
       "      <td>3</td>\n",
       "      <td>0</td>\n",
       "      <td>...</td>\n",
       "      <td>2</td>\n",
       "      <td>0</td>\n",
       "      <td>1</td>\n",
       "      <td>1</td>\n",
       "      <td>0</td>\n",
       "      <td>0</td>\n",
       "      <td>0</td>\n",
       "      <td>1</td>\n",
       "      <td>0</td>\n",
       "      <td>0</td>\n",
       "    </tr>\n",
       "    <tr>\n",
       "      <th>110147</th>\n",
       "      <td>1</td>\n",
       "      <td>34</td>\n",
       "      <td>0</td>\n",
       "      <td>0</td>\n",
       "      <td>0</td>\n",
       "      <td>0</td>\n",
       "      <td>-1.764711</td>\n",
       "      <td>2</td>\n",
       "      <td>3</td>\n",
       "      <td>1</td>\n",
       "      <td>...</td>\n",
       "      <td>2</td>\n",
       "      <td>0</td>\n",
       "      <td>1</td>\n",
       "      <td>0</td>\n",
       "      <td>0</td>\n",
       "      <td>1</td>\n",
       "      <td>0</td>\n",
       "      <td>0</td>\n",
       "      <td>0</td>\n",
       "      <td>0</td>\n",
       "    </tr>\n",
       "  </tbody>\n",
       "</table>\n",
       "<p>110148 rows × 23 columns</p>\n",
       "</div>"
      ],
      "text/plain": [
       "        sex  age  car  car_type  decline_app_cnt  good_work  score_bki  \\\n",
       "0         1   29    1         1                0          0  -2.271884   \n",
       "1         0   39    0         0                5          0  -1.504999   \n",
       "2         1   50    1         1                0          0  -1.691339   \n",
       "3         1   56    0         0                0          0  -2.374182   \n",
       "4         0   38    0         0                0          0  -2.487502   \n",
       "...     ...  ...  ...       ...              ...        ...        ...   \n",
       "110143    0   45    0         0                0          0  -1.792064   \n",
       "110144    1   41    1         1                0          0  -2.058029   \n",
       "110145    1   31    0         0                0          0  -1.512635   \n",
       "110146    0   29    0         0                0          1  -1.479334   \n",
       "110147    1   34    0         0                0          0  -1.764711   \n",
       "\n",
       "        bki_request_cnt  region_rating  home_address  ...  first_time  \\\n",
       "0                     3              3             0  ...           3   \n",
       "1                     2              3             0  ...           2   \n",
       "2                     1              3             0  ...           2   \n",
       "3                     1              2             0  ...           2   \n",
       "4                     0              6             1  ...           2   \n",
       "...                 ...            ...           ...  ...         ...   \n",
       "110143                3              3             0  ...           3   \n",
       "110144                1              3             1  ...           3   \n",
       "110145                4              6             1  ...           1   \n",
       "110146                3              3             0  ...           2   \n",
       "110147                2              3             1  ...           2   \n",
       "\n",
       "        foreign_passport  sample  default  education_ACD  education_GRD  \\\n",
       "0                      0       0        0              0              1   \n",
       "1                      0       0        0              0              0   \n",
       "2                      1       0        0              0              0   \n",
       "3                      0       0        0              0              0   \n",
       "4                      0       0        0              0              1   \n",
       "...                  ...     ...      ...            ...            ...   \n",
       "110143                 0       1        0              0              1   \n",
       "110144                 0       1        0              0              0   \n",
       "110145                 0       1        0              0              0   \n",
       "110146                 0       1        1              0              0   \n",
       "110147                 0       1        0              0              1   \n",
       "\n",
       "        education_PGR  education_SCH  education_UGR  education_nan  \n",
       "0                   0              0              0              0  \n",
       "1                   0              1              0              0  \n",
       "2                   0              0              1              0  \n",
       "3                   0              1              0              0  \n",
       "4                   0              0              0              0  \n",
       "...               ...            ...            ...            ...  \n",
       "110143              0              0              0              0  \n",
       "110144              0              1              0              0  \n",
       "110145              0              1              0              0  \n",
       "110146              0              1              0              0  \n",
       "110147              0              0              0              0  \n",
       "\n",
       "[110148 rows x 23 columns]"
      ]
     },
     "execution_count": 18,
     "metadata": {},
     "output_type": "execute_result"
    }
   ],
   "source": [
    "data"
   ]
  },
  {
   "cell_type": "code",
   "execution_count": 19,
   "id": "eb229296",
   "metadata": {
    "execution": {
     "iopub.execute_input": "2021-12-20T17:20:02.928471Z",
     "iopub.status.busy": "2021-12-20T17:20:02.927821Z",
     "iopub.status.idle": "2021-12-20T17:20:02.984735Z",
     "shell.execute_reply": "2021-12-20T17:20:02.983985Z",
     "shell.execute_reply.started": "2021-12-20T17:19:04.050754Z"
    },
    "papermill": {
     "duration": 0.093452,
     "end_time": "2021-12-20T17:20:02.984903",
     "exception": false,
     "start_time": "2021-12-20T17:20:02.891451",
     "status": "completed"
    },
    "tags": []
   },
   "outputs": [],
   "source": [
    "train_data = data.query('sample == 1').drop(['sample'], axis=1)\n",
    "test_data = data.query('sample == 0').drop(['sample', 'default'], axis=1)\n",
    "\n",
    "y = train_data['default'].values\n",
    "X = train_data.drop(['default'], axis=1)"
   ]
  },
  {
   "cell_type": "code",
   "execution_count": 20,
   "id": "999e0312",
   "metadata": {
    "execution": {
     "iopub.execute_input": "2021-12-20T17:20:03.050669Z",
     "iopub.status.busy": "2021-12-20T17:20:03.049937Z",
     "iopub.status.idle": "2021-12-20T17:20:03.130861Z",
     "shell.execute_reply": "2021-12-20T17:20:03.130108Z",
     "shell.execute_reply.started": "2021-12-20T17:19:04.091984Z"
    },
    "papermill": {
     "duration": 0.116146,
     "end_time": "2021-12-20T17:20:03.131053",
     "exception": false,
     "start_time": "2021-12-20T17:20:03.014907",
     "status": "completed"
    },
    "tags": []
   },
   "outputs": [],
   "source": [
    "\n",
    "from sklearn.model_selection import train_test_split\n",
    "\n",
    "\n",
    "X_train, X_test, y_train, y_test = train_test_split(X, y, test_size=0.2, random_state=42)"
   ]
  },
  {
   "cell_type": "code",
   "execution_count": 21,
   "id": "9f1164f2",
   "metadata": {
    "execution": {
     "iopub.execute_input": "2021-12-20T17:20:03.195071Z",
     "iopub.status.busy": "2021-12-20T17:20:03.194437Z",
     "iopub.status.idle": "2021-12-20T17:20:03.199579Z",
     "shell.execute_reply": "2021-12-20T17:20:03.200120Z",
     "shell.execute_reply.started": "2021-12-20T17:19:04.112971Z"
    },
    "papermill": {
     "duration": 0.039201,
     "end_time": "2021-12-20T17:20:03.200328",
     "exception": false,
     "start_time": "2021-12-20T17:20:03.161127",
     "status": "completed"
    },
    "tags": []
   },
   "outputs": [
    {
     "data": {
      "text/plain": [
       "((59039, 21), (14760, 21), (59039,), (14760,))"
      ]
     },
     "execution_count": 21,
     "metadata": {},
     "output_type": "execute_result"
    }
   ],
   "source": [
    "X_train.shape, X_test.shape, y_train.shape, y_test.shape"
   ]
  },
  {
   "cell_type": "code",
   "execution_count": 22,
   "id": "3f394663",
   "metadata": {
    "execution": {
     "iopub.execute_input": "2021-12-20T17:20:03.265546Z",
     "iopub.status.busy": "2021-12-20T17:20:03.264873Z",
     "iopub.status.idle": "2021-12-20T17:20:03.369457Z",
     "shell.execute_reply": "2021-12-20T17:20:03.368849Z",
     "shell.execute_reply.started": "2021-12-20T17:19:04.121244Z"
    },
    "papermill": {
     "duration": 0.138673,
     "end_time": "2021-12-20T17:20:03.369651",
     "exception": false,
     "start_time": "2021-12-20T17:20:03.230978",
     "status": "completed"
    },
    "tags": []
   },
   "outputs": [],
   "source": [
    "from sklearn.linear_model import LogisticRegression \n",
    "from sklearn import metrics "
   ]
  },
  {
   "cell_type": "code",
   "execution_count": 23,
   "id": "4c1ffbb7",
   "metadata": {
    "execution": {
     "iopub.execute_input": "2021-12-20T17:20:03.438739Z",
     "iopub.status.busy": "2021-12-20T17:20:03.438091Z",
     "iopub.status.idle": "2021-12-20T17:20:03.796660Z",
     "shell.execute_reply": "2021-12-20T17:20:03.797576Z",
     "shell.execute_reply.started": "2021-12-20T17:19:04.133667Z"
    },
    "papermill": {
     "duration": 0.397133,
     "end_time": "2021-12-20T17:20:03.797858",
     "exception": false,
     "start_time": "2021-12-20T17:20:03.400725",
     "status": "completed"
    },
    "tags": []
   },
   "outputs": [],
   "source": [
    "logreg = LogisticRegression(solver='liblinear', max_iter=1000)\n",
    "logreg.fit(X_train, y_train)\n",
    "y_pred = logreg.predict(X_test)"
   ]
  },
  {
   "cell_type": "code",
   "execution_count": 24,
   "id": "8c634f3f",
   "metadata": {
    "execution": {
     "iopub.execute_input": "2021-12-20T17:20:03.914834Z",
     "iopub.status.busy": "2021-12-20T17:20:03.913816Z",
     "iopub.status.idle": "2021-12-20T17:20:03.937864Z",
     "shell.execute_reply": "2021-12-20T17:20:03.938386Z",
     "shell.execute_reply.started": "2021-12-20T17:19:04.431523Z"
    },
    "papermill": {
     "duration": 0.086274,
     "end_time": "2021-12-20T17:20:03.938593",
     "exception": false,
     "start_time": "2021-12-20T17:20:03.852319",
     "status": "completed"
    },
    "tags": []
   },
   "outputs": [
    {
     "name": "stdout",
     "output_type": "stream",
     "text": [
      "              precision    recall  f1-score   support\n",
      "\n",
      "           0       0.88      1.00      0.93     12933\n",
      "           1       0.50      0.00      0.00      1827\n",
      "\n",
      "    accuracy                           0.88     14760\n",
      "   macro avg       0.69      0.50      0.47     14760\n",
      "weighted avg       0.83      0.88      0.82     14760\n",
      "\n"
     ]
    }
   ],
   "source": [
    "from sklearn.metrics import classification_report\n",
    "classification_report = classification_report(y_test, y_pred)\n",
    "print(classification_report)"
   ]
  },
  {
   "cell_type": "code",
   "execution_count": 25,
   "id": "df1a0eca",
   "metadata": {
    "execution": {
     "iopub.execute_input": "2021-12-20T17:20:04.004265Z",
     "iopub.status.busy": "2021-12-20T17:20:04.003628Z",
     "iopub.status.idle": "2021-12-20T17:20:04.496325Z",
     "shell.execute_reply": "2021-12-20T17:20:04.496898Z",
     "shell.execute_reply.started": "2021-12-20T17:19:04.486355Z"
    },
    "papermill": {
     "duration": 0.528,
     "end_time": "2021-12-20T17:20:04.497133",
     "exception": false,
     "start_time": "2021-12-20T17:20:03.969133",
     "status": "completed"
    },
    "tags": []
   },
   "outputs": [
    {
     "data": {
      "text/plain": [
       "LogisticRegression(max_iter=1000, solver='liblinear')"
      ]
     },
     "execution_count": 25,
     "metadata": {},
     "output_type": "execute_result"
    }
   ],
   "source": [
    "logreg_final = LogisticRegression(solver='liblinear', max_iter=1000)\n",
    "logreg_final.fit(X, y)"
   ]
  },
  {
   "cell_type": "code",
   "execution_count": 26,
   "id": "7a3464eb",
   "metadata": {
    "execution": {
     "iopub.execute_input": "2021-12-20T17:20:04.564374Z",
     "iopub.status.busy": "2021-12-20T17:20:04.563664Z",
     "iopub.status.idle": "2021-12-20T17:20:04.579445Z",
     "shell.execute_reply": "2021-12-20T17:20:04.580363Z",
     "shell.execute_reply.started": "2021-12-20T17:19:04.892135Z"
    },
    "papermill": {
     "duration": 0.051708,
     "end_time": "2021-12-20T17:20:04.580701",
     "exception": false,
     "start_time": "2021-12-20T17:20:04.528993",
     "status": "completed"
    },
    "tags": []
   },
   "outputs": [],
   "source": [
    "predict_submission = logreg_final.predict(test_data)"
   ]
  },
  {
   "cell_type": "code",
   "execution_count": 27,
   "id": "f5dd1939",
   "metadata": {
    "execution": {
     "iopub.execute_input": "2021-12-20T17:20:04.698960Z",
     "iopub.status.busy": "2021-12-20T17:20:04.698286Z",
     "iopub.status.idle": "2021-12-20T17:20:04.773898Z",
     "shell.execute_reply": "2021-12-20T17:20:04.773244Z",
     "shell.execute_reply.started": "2021-12-20T17:19:04.905346Z"
    },
    "papermill": {
     "duration": 0.135646,
     "end_time": "2021-12-20T17:20:04.774051",
     "exception": false,
     "start_time": "2021-12-20T17:20:04.638405",
     "status": "completed"
    },
    "tags": []
   },
   "outputs": [
    {
     "data": {
      "text/html": [
       "<div>\n",
       "<style scoped>\n",
       "    .dataframe tbody tr th:only-of-type {\n",
       "        vertical-align: middle;\n",
       "    }\n",
       "\n",
       "    .dataframe tbody tr th {\n",
       "        vertical-align: top;\n",
       "    }\n",
       "\n",
       "    .dataframe thead th {\n",
       "        text-align: right;\n",
       "    }\n",
       "</style>\n",
       "<table border=\"1\" class=\"dataframe\">\n",
       "  <thead>\n",
       "    <tr style=\"text-align: right;\">\n",
       "      <th></th>\n",
       "      <th>client_id</th>\n",
       "      <th>default</th>\n",
       "    </tr>\n",
       "  </thead>\n",
       "  <tbody>\n",
       "    <tr>\n",
       "      <th>0</th>\n",
       "      <td>74835</td>\n",
       "      <td>0</td>\n",
       "    </tr>\n",
       "    <tr>\n",
       "      <th>1</th>\n",
       "      <td>17527</td>\n",
       "      <td>0</td>\n",
       "    </tr>\n",
       "    <tr>\n",
       "      <th>2</th>\n",
       "      <td>75683</td>\n",
       "      <td>0</td>\n",
       "    </tr>\n",
       "    <tr>\n",
       "      <th>3</th>\n",
       "      <td>26883</td>\n",
       "      <td>0</td>\n",
       "    </tr>\n",
       "    <tr>\n",
       "      <th>4</th>\n",
       "      <td>28862</td>\n",
       "      <td>0</td>\n",
       "    </tr>\n",
       "    <tr>\n",
       "      <th>5</th>\n",
       "      <td>99881</td>\n",
       "      <td>0</td>\n",
       "    </tr>\n",
       "    <tr>\n",
       "      <th>6</th>\n",
       "      <td>26630</td>\n",
       "      <td>0</td>\n",
       "    </tr>\n",
       "    <tr>\n",
       "      <th>7</th>\n",
       "      <td>79934</td>\n",
       "      <td>0</td>\n",
       "    </tr>\n",
       "    <tr>\n",
       "      <th>8</th>\n",
       "      <td>16605</td>\n",
       "      <td>0</td>\n",
       "    </tr>\n",
       "    <tr>\n",
       "      <th>9</th>\n",
       "      <td>105449</td>\n",
       "      <td>0</td>\n",
       "    </tr>\n",
       "  </tbody>\n",
       "</table>\n",
       "</div>"
      ],
      "text/plain": [
       "   client_id  default\n",
       "0      74835        0\n",
       "1      17527        0\n",
       "2      75683        0\n",
       "3      26883        0\n",
       "4      28862        0\n",
       "5      99881        0\n",
       "6      26630        0\n",
       "7      79934        0\n",
       "8      16605        0\n",
       "9     105449        0"
      ]
     },
     "execution_count": 27,
     "metadata": {},
     "output_type": "execute_result"
    }
   ],
   "source": [
    "sample_submission['default'] = predict_submission\n",
    "sample_submission.to_csv('submission.csv', index=False)\n",
    "sample_submission.head(10)"
   ]
  },
  {
   "cell_type": "code",
   "execution_count": 28,
   "id": "d3c421d0",
   "metadata": {
    "execution": {
     "iopub.execute_input": "2021-12-20T17:20:04.844380Z",
     "iopub.status.busy": "2021-12-20T17:20:04.843705Z",
     "iopub.status.idle": "2021-12-20T17:20:04.860367Z",
     "shell.execute_reply": "2021-12-20T17:20:04.859780Z",
     "shell.execute_reply.started": "2021-12-20T17:19:05.042324Z"
    },
    "papermill": {
     "duration": 0.055183,
     "end_time": "2021-12-20T17:20:04.860554",
     "exception": false,
     "start_time": "2021-12-20T17:20:04.805371",
     "status": "completed"
    },
    "tags": []
   },
   "outputs": [
    {
     "data": {
      "text/html": [
       "<div>\n",
       "<style scoped>\n",
       "    .dataframe tbody tr th:only-of-type {\n",
       "        vertical-align: middle;\n",
       "    }\n",
       "\n",
       "    .dataframe tbody tr th {\n",
       "        vertical-align: top;\n",
       "    }\n",
       "\n",
       "    .dataframe thead th {\n",
       "        text-align: right;\n",
       "    }\n",
       "</style>\n",
       "<table border=\"1\" class=\"dataframe\">\n",
       "  <thead>\n",
       "    <tr style=\"text-align: right;\">\n",
       "      <th></th>\n",
       "      <th>client_id</th>\n",
       "      <th>default</th>\n",
       "    </tr>\n",
       "  </thead>\n",
       "  <tbody>\n",
       "    <tr>\n",
       "      <th>count</th>\n",
       "      <td>36349.000000</td>\n",
       "      <td>36349.00000</td>\n",
       "    </tr>\n",
       "    <tr>\n",
       "      <th>mean</th>\n",
       "      <td>54945.647473</td>\n",
       "      <td>0.00011</td>\n",
       "    </tr>\n",
       "    <tr>\n",
       "      <th>std</th>\n",
       "      <td>31706.052195</td>\n",
       "      <td>0.01049</td>\n",
       "    </tr>\n",
       "    <tr>\n",
       "      <th>min</th>\n",
       "      <td>4.000000</td>\n",
       "      <td>0.00000</td>\n",
       "    </tr>\n",
       "    <tr>\n",
       "      <th>25%</th>\n",
       "      <td>27744.000000</td>\n",
       "      <td>0.00000</td>\n",
       "    </tr>\n",
       "    <tr>\n",
       "      <th>50%</th>\n",
       "      <td>54657.000000</td>\n",
       "      <td>0.00000</td>\n",
       "    </tr>\n",
       "    <tr>\n",
       "      <th>75%</th>\n",
       "      <td>82322.000000</td>\n",
       "      <td>0.00000</td>\n",
       "    </tr>\n",
       "    <tr>\n",
       "      <th>max</th>\n",
       "      <td>110148.000000</td>\n",
       "      <td>1.00000</td>\n",
       "    </tr>\n",
       "  </tbody>\n",
       "</table>\n",
       "</div>"
      ],
      "text/plain": [
       "           client_id      default\n",
       "count   36349.000000  36349.00000\n",
       "mean    54945.647473      0.00011\n",
       "std     31706.052195      0.01049\n",
       "min         4.000000      0.00000\n",
       "25%     27744.000000      0.00000\n",
       "50%     54657.000000      0.00000\n",
       "75%     82322.000000      0.00000\n",
       "max    110148.000000      1.00000"
      ]
     },
     "execution_count": 28,
     "metadata": {},
     "output_type": "execute_result"
    }
   ],
   "source": [
    "sample_submission.describe()"
   ]
  },
  {
   "cell_type": "code",
   "execution_count": null,
   "id": "7d6bf335",
   "metadata": {
    "papermill": {
     "duration": 0.031553,
     "end_time": "2021-12-20T17:20:04.924909",
     "exception": false,
     "start_time": "2021-12-20T17:20:04.893356",
     "status": "completed"
    },
    "tags": []
   },
   "outputs": [],
   "source": []
  }
 ],
 "metadata": {
  "kernelspec": {
   "display_name": "Python 3",
   "language": "python",
   "name": "python3"
  },
  "language_info": {
   "codemirror_mode": {
    "name": "ipython",
    "version": 3
   },
   "file_extension": ".py",
   "mimetype": "text/x-python",
   "name": "python",
   "nbconvert_exporter": "python",
   "pygments_lexer": "ipython3",
   "version": "3.7.12"
  },
  "papermill": {
   "default_parameters": {},
   "duration": 17.379805,
   "end_time": "2021-12-20T17:20:05.771252",
   "environment_variables": {},
   "exception": null,
   "input_path": "__notebook__.ipynb",
   "output_path": "__notebook__.ipynb",
   "parameters": {},
   "start_time": "2021-12-20T17:19:48.391447",
   "version": "2.3.3"
  }
 },
 "nbformat": 4,
 "nbformat_minor": 5
}
